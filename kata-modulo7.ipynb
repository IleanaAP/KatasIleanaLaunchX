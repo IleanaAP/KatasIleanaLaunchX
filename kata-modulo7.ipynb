{
 "cells": [
  {
   "cell_type": "markdown",
   "metadata": {},
   "source": [
    "MÓDULO 7 - ESTRUCTURAS DE CONTROL"
   ]
  },
  {
   "cell_type": "markdown",
   "metadata": {},
   "source": [
    "CICLOS WHILE\n",
    "Estos ciclos realizan una operacion mientras una determinada condicion es True. Evaluan si hay otra línea en un archivo. si se ha establecido una marca, si el usuario terminó de escribir valores o ha cambiado algo para indicar que el código puede dejar de realizar la operacion.\n",
    "\n",
    "Es sumamente importante asegurarse de que cambia la condicion en los ciclos WHILE. La condicion debe dejar de ser True.\n",
    "\n",
    "Partes del ciclo: palabra while seguida de un espacio, la condicion que se va a probar, el codigo a ejecutar para cada elemento del objeto iterable seguido de espaciosen blanco anidados."
   ]
  },
  {
   "cell_type": "code",
   "execution_count": 1,
   "metadata": {},
   "outputs": [],
   "source": [
    "# usar la entrada de usuario como condicion\n",
    "user_input = ''\n",
    "\n",
    "while user_input.lower() != 'done':\n",
    "    user_input = input('Enter a new value, or done when done')"
   ]
  },
  {
   "cell_type": "code",
   "execution_count": 2,
   "metadata": {},
   "outputs": [],
   "source": [
    "# si deseas guardar los datos en una lista\n",
    "# Creamos la variable que almacena el texto\n",
    "user_input = ''\n",
    "# Creamos la lista que almacena cada uno de los textos que el usuario ingresa\n",
    "inputs = []\n",
    "\n",
    "# Ciclo while\n",
    "while user_input.lower() != 'done':\n",
    "    # Verificamos si hay un valor en user_input\n",
    "    if user_input:\n",
    "        # Almacenamos ese valor en la lista\n",
    "        inputs.append(user_input)\n",
    "    # Capturamos un nuevo valor\n",
    "    user_input = input('Enter a new value, or done when done')"
   ]
  },
  {
   "cell_type": "code",
   "execution_count": 3,
   "metadata": {},
   "outputs": [
    {
     "name": "stdout",
     "output_type": "stream",
     "text": [
      "['manzana', 'platano', 'sandia', 'mango', 'piña', 'pera']\n"
     ]
    }
   ],
   "source": [
    "print(inputs)"
   ]
  },
  {
   "cell_type": "markdown",
   "metadata": {},
   "source": [
    "CICLOS FOR\n",
    "\n",
    "Python proporciona ciclos for que se pueden usar para recorrer en iteracionlas listas.\n",
    "\n",
    "Las listas de python son iterables. Se usa un ciclo for con objetos iterables que va a recorrer en ciclo un numero conocido de veces una vez para cada elemento del objeto iterable."
   ]
  },
  {
   "cell_type": "code",
   "execution_count": 4,
   "metadata": {},
   "outputs": [
    {
     "name": "stdout",
     "output_type": "stream",
     "text": [
      "4\n",
      "3\n",
      "2\n",
      "1\n",
      "0\n",
      "Blast off!! 🚀\n"
     ]
    }
   ],
   "source": [
    "# Cuenta hacia atras\n",
    "countdown = [4, 3, 2, 1, 0]\n",
    "for number in countdown:\n",
    "    print(number)\n",
    "print(\"Blast off!! 🚀\")"
   ]
  },
  {
   "cell_type": "markdown",
   "metadata": {},
   "source": [
    "Cinco partes importantes de un ciclo for: palabra for seguida de un espacio, nombre de la variable que quieres crear para cada valor de la secuencia, la palabra in entre espacios, el nombre de la lista u objeto iterable que quieres recorrer en ciclo seguido de dos puntos (:), el codigo que quieres ejecutar para cada elemento del objeto iterable separado por espacios en blanco anidados."
   ]
  },
  {
   "cell_type": "code",
   "execution_count": 5,
   "metadata": {},
   "outputs": [
    {
     "name": "stdout",
     "output_type": "stream",
     "text": [
      "4\n",
      "3\n",
      "2\n",
      "1\n",
      "0\n",
      "Blast off!! 🚀\n"
     ]
    }
   ],
   "source": [
    "# misma codigo anterior pero esperando un segundoentre cada numero usando la funcion sleep()\n",
    "# De la biblioteca time, importamos (traemos) la clase sleep\n",
    "\n",
    "from time import sleep\n",
    "\n",
    "# Creamos una lista de 5 números llamada countdown\n",
    "countdown = [4, 3, 2, 1, 0]\n",
    "\n",
    "# Para cada número en countdown\n",
    "for number in countdown:\n",
    "    #Muestra el número\n",
    "    print(number)\n",
    "\n",
    "    # Espera (1segundo)\n",
    "    sleep(1)\n",
    "\n",
    "# Muestra el mensaje Blast off\n",
    "print(\"Blast off!! 🚀\")"
   ]
  },
  {
   "cell_type": "markdown",
   "metadata": {},
   "source": [
    "EJERCICIO 1: CREACIÓN DE UN BUCLE \"WHILE\""
   ]
  },
  {
   "cell_type": "code",
   "execution_count": 12,
   "metadata": {},
   "outputs": [],
   "source": [
    "# Declara dos variables. Una para la entrada del usuario new_planet, y otra para la lista de planetas denominada planets.\n",
    "new_planet = ''\n",
    "planets = []"
   ]
  },
  {
   "cell_type": "code",
   "execution_count": 13,
   "metadata": {},
   "outputs": [],
   "source": [
    "# El ciclo se ejecutara mientras el input no sea \"done\".\n",
    "# se comprobará si new_planet contiene un valor, si si, se agregará (append) ese valor a la variable planets\n",
    "# isar input para solicitar el ingreso de datos o que escriba \"done\" para terminar. Almacenar el valor de input en new_planet\n",
    "# Escribe el ciclo while solicitado\n",
    "\n",
    "while new_planet.lower() != 'done':\n",
    "    if new_planet:\n",
    "        planets.append(new_planet)\n",
    "    # Capturamos un nuevo valor\n",
    "    new_planet = input('Escribe el nombre de un planeta:')\n",
    "    "
   ]
  },
  {
   "cell_type": "code",
   "execution_count": 14,
   "metadata": {},
   "outputs": [
    {
     "name": "stdout",
     "output_type": "stream",
     "text": [
      "['Mercurio', 'Venus', 'Tierra', 'Marte', 'Jupiter', 'Saturno', 'Urano']\n"
     ]
    }
   ],
   "source": [
    "print(planets)"
   ]
  },
  {
   "cell_type": "markdown",
   "metadata": {},
   "source": [
    "EJERCICIO 2: CREACIÓN DE UN CICLO \"FOR\""
   ]
  },
  {
   "cell_type": "code",
   "execution_count": 16,
   "metadata": {},
   "outputs": [
    {
     "name": "stdout",
     "output_type": "stream",
     "text": [
      "Mercurio\n",
      "Venus\n",
      "Tierra\n",
      "Marte\n",
      "Jupiter\n",
      "Saturno\n",
      "Urano\n"
     ]
    }
   ],
   "source": [
    "# Mostrar la lista de esos planetas recorriendo la lista\n",
    "# usar la variable planet para cada planeta en la lista de planetas planets\n",
    "for planet in planets:\n",
    "    print(planet)"
   ]
  }
 ],
 "metadata": {
  "interpreter": {
   "hash": "7dd9c8ef149fbb4800cd879b4a1e4b2a44500d22d91c5702e8541343f7bd1637"
  },
  "kernelspec": {
   "display_name": "Python 3.10.2 64-bit",
   "language": "python",
   "name": "python3"
  },
  "language_info": {
   "codemirror_mode": {
    "name": "ipython",
    "version": 3
   },
   "file_extension": ".py",
   "mimetype": "text/x-python",
   "name": "python",
   "nbconvert_exporter": "python",
   "pygments_lexer": "ipython3",
   "version": "3.10.2"
  },
  "orig_nbformat": 4
 },
 "nbformat": 4,
 "nbformat_minor": 2
}
