{
 "cells": [
  {
   "cell_type": "markdown",
   "metadata": {},
   "source": [
    "MÓDULO 9 - FUNCIONES\n",
    "\n",
    "Las funciones permiten la reutilización, lo que evita la duplicación de código. Al usar funciones, se vuelven mas legibles y fáciles de mantener.\n",
    "\n",
    "Una función contiene código que siempre devuelve un valor (o valores). En algunos casos, una función también tiene entradas opcionales u obligatorias.\n",
    "\n",
    "Los programas que evitan la duplicación y evitan funciones de gran tamaño mediante funciones más pequeñas son más legibles y fáciles de mantener. También son más fáciles de depurar cuando las cosas no funcionan correctamente."
   ]
  },
  {
   "cell_type": "markdown",
   "metadata": {},
   "source": [
    "Funciones sin argumentos"
   ]
  },
  {
   "cell_type": "code",
   "execution_count": 1,
   "metadata": {},
   "outputs": [
    {
     "name": "stdout",
     "output_type": "stream",
     "text": [
      "payload, propellant, structure\n"
     ]
    }
   ],
   "source": [
    "# Para crear una funcion usamos la palabra clave def, seguida de un nombre, parentesis, y luego el cuerpo con el codigo en funcion\n",
    "# Defino mi función\n",
    "def rocket_parts(): # los parentesis vacios indican que no se necesitan argumentos\n",
    "    print('payload, propellant, structure')\n",
    "\n",
    "# Llamo a mi función para poder usarla\n",
    "rocket_parts()"
   ]
  },
  {
   "cell_type": "code",
   "execution_count": 2,
   "metadata": {},
   "outputs": [
    {
     "name": "stdout",
     "output_type": "stream",
     "text": [
      "payload, propellant, structure\n"
     ]
    },
    {
     "data": {
      "text/plain": [
       "True"
      ]
     },
     "execution_count": 2,
     "metadata": {},
     "output_type": "execute_result"
    }
   ],
   "source": [
    "# si se quieren usar los valores que regresa una funcion, hay que asignar la salida de la funcion a una variable\n",
    "output = rocket_parts()\n",
    "\n",
    "output is None"
   ]
  },
  {
   "cell_type": "markdown",
   "metadata": {},
   "source": [
    "Output es None porque la funcion rocket_parts() no ha devuelto explicitamente un valor y si esto sucede en Python, devuelve explicitamente None."
   ]
  },
  {
   "cell_type": "code",
   "execution_count": 3,
   "metadata": {},
   "outputs": [
    {
     "data": {
      "text/plain": [
       "'payload, propellant, structure'"
      ]
     },
     "execution_count": 3,
     "metadata": {},
     "output_type": "execute_result"
    }
   ],
   "source": [
    "# Actualizamos la funcion para devolver la cadena en lugar de imprimirla hace que la variable tenga un valor distinto\n",
    "def rocket_parts():\n",
    "     return 'payload, propellant, structure'\n",
    "\n",
    "output = rocket_parts()\n",
    "output"
   ]
  },
  {
   "cell_type": "markdown",
   "metadata": {},
   "source": [
    "ARGUMENTOS OPCIONALES Y REQUERIDOS\n",
    "\n",
    "Varias funciones integradas requieren argumentos. Algunas funciones integradas hacen que los argumentos sean opcionales. Estas funciones estan disponibles de inmediato por lo que no se necesita importarlas explicitamente."
   ]
  },
  {
   "cell_type": "code",
   "execution_count": 5,
   "metadata": {},
   "outputs": [
    {
     "data": {
      "text/plain": [
       "False"
      ]
     },
     "execution_count": 5,
     "metadata": {},
     "output_type": "execute_result"
    }
   ],
   "source": [
    "# ejemplo de funcion integrada que requiere argumento es any()\n",
    "# la funcion toma un objeto iterable (ej. una lista) y duelve True si algun elemento es True, si no, False.\n",
    "any([True, False, False]) # devuelve True\n",
    "\n",
    "any([False, False, False]) # devuelve False"
   ]
  },
  {
   "cell_type": "code",
   "execution_count": 7,
   "metadata": {},
   "outputs": [
    {
     "data": {
      "text/plain": [
       "''"
      ]
     },
     "execution_count": 7,
     "metadata": {},
     "output_type": "execute_result"
    }
   ],
   "source": [
    "# un ejemplo de funcion con argumentos opcionales es str(). Si no hay argumentos devuelve una cadena vacia\n",
    "str()\n",
    "\n",
    "# str(15)"
   ]
  },
  {
   "cell_type": "code",
   "execution_count": 8,
   "metadata": {},
   "outputs": [],
   "source": [
    "# usar argumentos hace que las funciones sean más flexibles (pueden hacer masy condicionalizar lo que hacen)\n",
    "# para requerir un argumento agrégalo entre parentesis\n",
    "def distance_from_earth(destination):\n",
    "    if destination == 'Moon':\n",
    "        return '238,855'\n",
    "    else:\n",
    "        return 'Unable to compute to that destination'"
   ]
  },
  {
   "cell_type": "code",
   "execution_count": 11,
   "metadata": {},
   "outputs": [
    {
     "data": {
      "text/plain": [
       "'238,855'"
      ]
     },
     "execution_count": 11,
     "metadata": {},
     "output_type": "execute_result"
    }
   ],
   "source": [
    "# ejemplo de el uso de un argumento\n",
    "distance_from_earth('Moon')"
   ]
  },
  {
   "cell_type": "code",
   "execution_count": 12,
   "metadata": {},
   "outputs": [
    {
     "data": {
      "text/plain": [
       "'Unable to compute to that destination'"
      ]
     },
     "execution_count": 12,
     "metadata": {},
     "output_type": "execute_result"
    }
   ],
   "source": [
    "# en caso de usar un argumento donde no se tienen los datos:\n",
    "distance_from_earth('Saturn')"
   ]
  },
  {
   "cell_type": "code",
   "execution_count": 13,
   "metadata": {},
   "outputs": [],
   "source": [
    "# para usar varios argumentos, se separan con comas\n",
    "# funcion que calcula cuantos dias tardaran en llegar a un destino segun la distancia y velocidad\n",
    "def days_to_complete(distance, speed):\n",
    "    hours = distance/speed\n",
    "    return hours/24"
   ]
  },
  {
   "cell_type": "code",
   "execution_count": 15,
   "metadata": {},
   "outputs": [
    {
     "data": {
      "text/plain": [
       "132.69722222222222"
      ]
     },
     "execution_count": 15,
     "metadata": {},
     "output_type": "execute_result"
    }
   ],
   "source": [
    "# usando la distancia entre la Tierra y la Luna\n",
    "days_to_complete(238855, 75)"
   ]
  },
  {
   "cell_type": "code",
   "execution_count": 18,
   "metadata": {},
   "outputs": [
    {
     "data": {
      "text/plain": [
       "133"
      ]
     },
     "execution_count": 18,
     "metadata": {},
     "output_type": "execute_result"
    }
   ],
   "source": [
    "# usando el valor de la funcion days_to_complete() y asignarlo a una variable para despues pasarlo a round() la cual redondea al numero mas cercano\n",
    "total_days = days_to_complete(238855, 75)\n",
    "round(total_days)\n",
    "\n",
    "# tambien se puede pasar la funcion a otra funcion pero puede reducir la legibilidad y si se tienen muchos argumentos no es recomendable\n",
    "round(days_to_complete(238855, 75))"
   ]
  },
  {
   "cell_type": "code",
   "execution_count": 20,
   "metadata": {},
   "outputs": [],
   "source": [
    "# argumentos de palabra clave: se deben definir en las propias funciones. No es necesario usarlos en absoluto.\n",
    "# estimar hora de llegada del apolo 11 si les tomó 51 horas en llegar a la luna\n",
    "from datetime import timedelta, datetime\n",
    "\n",
    "def arrival_time(hours=51):\n",
    "    now = datetime.now() #define la hora actual\n",
    "    arrival = now + timedelta(hours=hours) #timedelta permite la operacion de suma y regresa un objeto de hora nuevo\n",
    "    return arrival.strftime('Arrival: %A %H:%M') #se devuelve en formato de cadena"
   ]
  },
  {
   "cell_type": "code",
   "execution_count": 22,
   "metadata": {},
   "outputs": [
    {
     "data": {
      "text/plain": [
       "'Arrival: Monday 20:06'"
      ]
     },
     "execution_count": 22,
     "metadata": {},
     "output_type": "execute_result"
    }
   ],
   "source": [
    "# llamando la funcion sin argumento\n",
    "arrival_time()\n",
    "\n",
    "# con argumento para la variable hour\n",
    "arrival_time(hours=0)"
   ]
  },
  {
   "cell_type": "code",
   "execution_count": 23,
   "metadata": {},
   "outputs": [],
   "source": [
    "# a veces hay que combinar argumentos de palabra clave y argumentos y tienen un orden: primero los argumentos, despues los argumentos de palabra clave\n",
    "# actualizar arrival_time() para que tome un argumento necesario como el nomber destino\n",
    "from datetime import timedelta, datetime\n",
    "\n",
    "def arrival_time(destination, hours=51):\n",
    "    now = datetime.now()\n",
    "    arrival = now + timedelta(hours=hours)\n",
    "    return arrival.strftime(f'{destination} Arrival: %A %H:%M')"
   ]
  },
  {
   "cell_type": "code",
   "execution_count": 24,
   "metadata": {},
   "outputs": [
    {
     "ename": "TypeError",
     "evalue": "arrival_time() missing 1 required positional argument: 'destination'",
     "output_type": "error",
     "traceback": [
      "\u001b[1;31m---------------------------------------------------------------------------\u001b[0m",
      "\u001b[1;31mTypeError\u001b[0m                                 Traceback (most recent call last)",
      "\u001b[1;32mc:\\Users\\Ileana\\Documents\\launchX\\python\\notebooks\\kata-modulo9.ipynb Cell 19'\u001b[0m in \u001b[0;36m<module>\u001b[1;34m\u001b[0m\n\u001b[0;32m      <a href='vscode-notebook-cell:/c%3A/Users/Ileana/Documents/launchX/python/notebooks/kata-modulo9.ipynb#ch0000019?line=0'>1</a>\u001b[0m \u001b[39m# ahora no es posible llamar la funcion sin argumento\u001b[39;00m\n\u001b[1;32m----> <a href='vscode-notebook-cell:/c%3A/Users/Ileana/Documents/launchX/python/notebooks/kata-modulo9.ipynb#ch0000019?line=1'>2</a>\u001b[0m arrival_time()\n",
      "\u001b[1;31mTypeError\u001b[0m: arrival_time() missing 1 required positional argument: 'destination'"
     ]
    }
   ],
   "source": [
    "# ahora no es posible llamar la funcion sin argumento\n",
    "arrival_time()"
   ]
  },
  {
   "cell_type": "code",
   "execution_count": 25,
   "metadata": {},
   "outputs": [
    {
     "data": {
      "text/plain": [
       "'Moon Arrival: Wednesday 23:10'"
      ]
     },
     "execution_count": 25,
     "metadata": {},
     "output_type": "execute_result"
    }
   ],
   "source": [
    "# con el nombre del destino\n",
    "arrival_time('Moon')"
   ]
  },
  {
   "cell_type": "code",
   "execution_count": 27,
   "metadata": {},
   "outputs": [
    {
     "data": {
      "text/plain": [
       "'Orbit Arrival: Monday 20:19'"
      ]
     },
     "execution_count": 27,
     "metadata": {},
     "output_type": "execute_result"
    }
   ],
   "source": [
    "# pasando dos valores separados por coma (8 minutos/0.13 horas en entrar en orbita)\n",
    "arrival_time('Orbit', hours=0.13)"
   ]
  },
  {
   "cell_type": "code",
   "execution_count": 28,
   "metadata": {},
   "outputs": [],
   "source": [
    "# los argumentos de variable permiten pasar cualquier numero de argumentos (incluido 0).\n",
    "# Se debe agregar un asterisco unico como prefijo (*) antes del nombre del argumento\n",
    "def variable_length(*args): # es normal usar args para nombre\n",
    "    print(args)"
   ]
  },
  {
   "cell_type": "markdown",
   "metadata": {},
   "source": [
    "El uso de *args permiet cualquier cantidad de argumentos incluyendo ni uno."
   ]
  },
  {
   "cell_type": "code",
   "execution_count": 31,
   "metadata": {},
   "outputs": [
    {
     "name": "stdout",
     "output_type": "stream",
     "text": [
      "()\n",
      "('one', 'two')\n",
      "(None,)\n"
     ]
    }
   ],
   "source": [
    "variable_length() # regresa ()\n",
    "variable_length('one', 'two') # regresa 'one', 'two'\n",
    "variable_length(None) #regresa 'None',"
   ]
  },
  {
   "cell_type": "code",
   "execution_count": 32,
   "metadata": {},
   "outputs": [],
   "source": [
    "# funcion que calcula los minutos que quedan para el inicio del lanzamiento ya que hacen cosas antes y estas toman tiempo\n",
    "def sequence_time(*args):\n",
    "    total_minutes = sum(args)\n",
    "    if total_minutes < 60:\n",
    "        return f'Total time to launch is {total_minutes} minutes'\n",
    "    else:\n",
    "        return f'Total time to launch is {total_minutes/60} hours'"
   ]
  },
  {
   "cell_type": "code",
   "execution_count": 35,
   "metadata": {},
   "outputs": [
    {
     "data": {
      "text/plain": [
       "'Total time to launch is 1.1 hours'"
      ]
     },
     "execution_count": 35,
     "metadata": {},
     "output_type": "execute_result"
    }
   ],
   "source": [
    "sequence_time(4, 14, 18) # regresa minutos\n",
    "sequence_time(4, 14, 48) # regresa horas"
   ]
  },
  {
   "cell_type": "markdown",
   "metadata": {},
   "source": [
    "Al usar argumentos de variables ya no se le asigna un nombre a cada variable o valor. Todos los valores forman parte del nombre de variable catch-all que usa el asterisco (args aqui)."
   ]
  },
  {
   "cell_type": "code",
   "execution_count": 37,
   "metadata": {},
   "outputs": [
    {
     "name": "stdout",
     "output_type": "stream",
     "text": [
      "{'tanks': 1, 'day': 'Wednesday', 'pilots': 3}\n"
     ]
    }
   ],
   "source": [
    "# argumentos de palabra clave variable (suele usarse *kwargs o *kw)\n",
    "# para que una funcion acepte cualquier numero de argumentos de palabra clave debe usar una sintaxis familiar\n",
    "# aqui se requieren doble asteriscos\n",
    "def variable_length(**kwargs):\n",
    "    print(kwargs)\n",
    "\n",
    "variable_length(tanks=1, day='Wednesday', pilots=3)"
   ]
  },
  {
   "cell_type": "code",
   "execution_count": 38,
   "metadata": {},
   "outputs": [],
   "source": [
    "# ejemplo de una funcion con argumentos de palabra clave variable donde no importa el numero de astronautas asignados\n",
    "def crew_members(**kwargs):\n",
    "    print(f'{len(kwargs)} astronauts assigned for this mission:')\n",
    "    for title, name in kwargs.items():\n",
    "        print(f'{title}: {name}')"
   ]
  },
  {
   "cell_type": "code",
   "execution_count": 39,
   "metadata": {},
   "outputs": [
    {
     "name": "stdout",
     "output_type": "stream",
     "text": [
      "3 astronauts assigned for this mission:\n",
      "captain: Neil Armstrong\n",
      "pilot: Buzz Aldrin\n",
      "command_pilot: Michael Collins\n"
     ]
    }
   ],
   "source": [
    "# probando la funcion anterior\n",
    "crew_members(captain='Neil Armstrong', pilot='Buzz Aldrin', command_pilot='Michael Collins')"
   ]
  },
  {
   "cell_type": "code",
   "execution_count": 40,
   "metadata": {},
   "outputs": [
    {
     "ename": "SyntaxError",
     "evalue": "keyword argument repeated: pilot (3320687245.py, line 2)",
     "output_type": "error",
     "traceback": [
      "\u001b[1;36m  Input \u001b[1;32mIn [40]\u001b[1;36m\u001b[0m\n\u001b[1;33m    crew_members(captain='Neil Armstrong', pilot='Buzz Aldrin', pilot='Michael Collins')\u001b[0m\n\u001b[1;37m                                                                ^\u001b[0m\n\u001b[1;31mSyntaxError\u001b[0m\u001b[1;31m:\u001b[0m keyword argument repeated: pilot\n"
     ]
    }
   ],
   "source": [
    "# las palabras claves repetidas produciran un error\n",
    "crew_members(captain='Neil Armstrong', pilot='Buzz Aldrin', pilot='Michael Collins')"
   ]
  },
  {
   "cell_type": "markdown",
   "metadata": {},
   "source": [
    "EJERCICIO: USO DE FUNCIONES EN PYTHON\n",
    "\n",
    "Ejercicio 1: Trabajar con argumentos en funciones"
   ]
  },
  {
   "cell_type": "code",
   "execution_count": 42,
   "metadata": {},
   "outputs": [],
   "source": [
    "# Función para leer 3 tanques de combustible y muestre el promedio\n",
    "def fuel_lecture(tank1, tank2, tank3):\n",
    "    average = (tank1 + tank2 + tank3) / 3\n",
    "    return f\"\"\"Fuel report:\n",
    "    Tank 1: {tank1}\n",
    "    Tank 2: {tank2}\n",
    "    Tank 3: {tank3}\n",
    "    Total average: {average}\n",
    "    \"\"\""
   ]
  },
  {
   "cell_type": "code",
   "execution_count": 43,
   "metadata": {},
   "outputs": [
    {
     "name": "stdout",
     "output_type": "stream",
     "text": [
      "Fuel report:\n",
      "    Tank 1: 5\n",
      "    Tank 2: 8\n",
      "    Tank 3: 9\n",
      "    Total average: 7.333333333333333\n",
      "    \n"
     ]
    }
   ],
   "source": [
    "# Llamamos a la función que genera el reporte print(funcion(tanque1, tanque2, tanque3))\n",
    "print(fuel_lecture(5,8,9))"
   ]
  },
  {
   "cell_type": "code",
   "execution_count": 48,
   "metadata": {},
   "outputs": [
    {
     "data": {
      "text/plain": [
       "7.333333333333333"
      ]
     },
     "execution_count": 48,
     "metadata": {},
     "output_type": "execute_result"
    }
   ],
   "source": [
    "# Función promedio \n",
    "def average(values):\n",
    "    total = sum(values)\n",
    "    number_of_values = len(values)\n",
    "    return total/number_of_values\n",
    "\n",
    "average([5, 8, 9]) "
   ]
  },
  {
   "cell_type": "code",
   "execution_count": 49,
   "metadata": {},
   "outputs": [
    {
     "name": "stdout",
     "output_type": "stream",
     "text": [
      "Fuel report:\n",
      "    Tank 1: 5\n",
      "    Tank 2: 8\n",
      "    Tank 3: 9\n",
      "    Total average: 7.333333333333333\n",
      "    \n"
     ]
    }
   ],
   "source": [
    "# Actualiza la función que llama a la otra funcion\n",
    "def fuel_lecture(tank1, tank2, tank3):\n",
    "    return f\"\"\"Fuel report:\n",
    "    Tank 1: {tank1}\n",
    "    Tank 2: {tank2}\n",
    "    Tank 3: {tank3}\n",
    "    Total average: {average([tank1, tank2, tank3])}\n",
    "    \"\"\"\n",
    "\n",
    "print(fuel_lecture(5,8,9))"
   ]
  },
  {
   "cell_type": "markdown",
   "metadata": {},
   "source": [
    "EJERCICIO 2: TRABAJAR CON ARGUMENTOS DE PALABRAS CLAVE EN FUNCIONES"
   ]
  },
  {
   "cell_type": "code",
   "execution_count": 59,
   "metadata": {},
   "outputs": [
    {
     "name": "stdout",
     "output_type": "stream",
     "text": [
      "\n",
      "    Mission to Moon\n",
      "    Total travel time: 135 min.\n",
      "    Total fuel: 110000 lt.\n",
      "    \n"
     ]
    }
   ],
   "source": [
    "# Función con un informe preciso de la misión. Considera hora de prelanzamiento, tiempo de vuelo, destino, tanque externo y tanque interno\n",
    "def mission_report(prelaunch_time, flight_time, destination, external_tank, internal_tank):\n",
    "    return f\"\"\"\n",
    "    Mission to {destination}\n",
    "    Total travel time: {prelaunch_time + flight_time} min.\n",
    "    Total fuel: {external_tank + internal_tank} lt.\n",
    "    \"\"\"\n",
    "\n",
    "print(mission_report(15, 120, \"Moon\", 50000, 60000))"
   ]
  },
  {
   "cell_type": "code",
   "execution_count": 60,
   "metadata": {},
   "outputs": [
    {
     "name": "stdout",
     "output_type": "stream",
     "text": [
      "\n",
      "    Mission to Moon\n",
      "    Total travel time: 135 min.\n",
      "    Total fuel: 110000 lt.\n",
      "    \n"
     ]
    }
   ],
   "source": [
    "# si se quieren tener mas tanques o minutos no se pueden en la funcion anterior asi que hay que hacerla mas flexible\n",
    "# Usa los nombres de agrgumentos de palabra clave variable que quieras pero que esten asociados con lo que representan\n",
    "# Escribe tu nueva función de reporte considerando lo anterior\n",
    "def mission_report(destination, *time, **fuel):\n",
    "    return f\"\"\"\n",
    "    Mission to {destination}\n",
    "    Total travel time: {sum(time)} min.\n",
    "    Total fuel: {sum(fuel.values())} lt.\n",
    "    \"\"\"\n",
    "\n",
    "print(mission_report(\"Moon\",15, 120, external = 50000, internal = 60000))"
   ]
  },
  {
   "cell_type": "code",
   "execution_count": 61,
   "metadata": {},
   "outputs": [
    {
     "name": "stdout",
     "output_type": "stream",
     "text": [
      "\n",
      "    Mission to Moon\n",
      "    Total travel time: 190 minutes\n",
      "    Total fuel left: 110000\n",
      "    external tank --> 50000 litters left\n",
      "internal tank --> 60000 litters left\n",
      "\n"
     ]
    }
   ],
   "source": [
    "# Debido a que el combustible que queda en los tanques es específico de cada tanque, actualiza la función para usar el nombre de cada tanque en el informe\n",
    "# Escribe tu nueva función\n",
    "def mission_report(destination, *time, **fuel):\n",
    "    main_report = f\"\"\"\n",
    "    Mission to {destination}\n",
    "    Total travel time: {sum(time)} minutes\n",
    "    Total fuel left: {sum(fuel.values())}\n",
    "    \"\"\"\n",
    "    for tank_name, litters in fuel.items():\n",
    "        main_report += f\"{tank_name} tank --> {litters} litters left\\n\"\n",
    "    return main_report\n",
    "\n",
    "print(mission_report(\"Moon\", 15, 120, 55, external = 50000, internal = 60000))"
   ]
  }
 ],
 "metadata": {
  "interpreter": {
   "hash": "7dd9c8ef149fbb4800cd879b4a1e4b2a44500d22d91c5702e8541343f7bd1637"
  },
  "kernelspec": {
   "display_name": "Python 3.10.2 64-bit",
   "language": "python",
   "name": "python3"
  },
  "language_info": {
   "codemirror_mode": {
    "name": "ipython",
    "version": 3
   },
   "file_extension": ".py",
   "mimetype": "text/x-python",
   "name": "python",
   "nbconvert_exporter": "python",
   "pygments_lexer": "ipython3",
   "version": "3.10.2"
  },
  "orig_nbformat": 4
 },
 "nbformat": 4,
 "nbformat_minor": 2
}
