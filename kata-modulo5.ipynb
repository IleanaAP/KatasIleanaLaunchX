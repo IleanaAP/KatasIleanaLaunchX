{
 "cells": [
  {
   "cell_type": "code",
   "execution_count": null,
   "metadata": {},
   "outputs": [],
   "source": []
  },
  {
   "cell_type": "markdown",
   "metadata": {},
   "source": [
    "MÓDULO 5 - OPERACIONES MATEMATICAS"
   ]
  },
  {
   "cell_type": "code",
   "execution_count": 2,
   "metadata": {},
   "outputs": [
    {
     "name": "stdout",
     "output_type": "stream",
     "text": [
      "17\n"
     ]
    }
   ],
   "source": [
    "# Para obtener un numero redondeado hacia abajo en una división, se usa la división de piso //\n",
    "seconds = 1042\n",
    "display_minutes = 1042 // 60\n",
    "print(display_minutes)"
   ]
  },
  {
   "cell_type": "code",
   "execution_count": 3,
   "metadata": {},
   "outputs": [
    {
     "name": "stdout",
     "output_type": "stream",
     "text": [
      "17\n",
      "22\n"
     ]
    }
   ],
   "source": [
    "# para obtener el resto de una division, los decimales, se puede usar el % modulo\n",
    "seconds = 1042\n",
    "display_minutes = 1042 // 60\n",
    "display_seconds = 1042 % 60\n",
    "\n",
    "print(display_minutes)\n",
    "print(display_seconds)"
   ]
  },
  {
   "cell_type": "markdown",
   "metadata": {},
   "source": [
    "Orden de jerarquia: parentesis -> exponentes -> multiplicacion y division -> suma y resta"
   ]
  },
  {
   "cell_type": "code",
   "execution_count": 4,
   "metadata": {},
   "outputs": [
    {
     "name": "stdout",
     "output_type": "stream",
     "text": [
      "215.3\n"
     ]
    }
   ],
   "source": [
    "# para convertir una cadena en numero se usa int() o float() dependiendo si quieres un numero entero o con decimal\n",
    "demo_float = float('215.3')\n",
    "print(demo_float)"
   ]
  },
  {
   "cell_type": "code",
   "execution_count": 5,
   "metadata": {},
   "outputs": [
    {
     "name": "stdout",
     "output_type": "stream",
     "text": [
      "23\n",
      "23\n"
     ]
    }
   ],
   "source": [
    "# valor absoluto: numero no negativo sin su signo\n",
    "# se utiliza abs para obtener el valor absoluto\n",
    "print(abs(39 - 16))\n",
    "print(abs(16 - 39))"
   ]
  },
  {
   "cell_type": "code",
   "execution_count": 8,
   "metadata": {},
   "outputs": [
    {
     "name": "stdout",
     "output_type": "stream",
     "text": [
      "14\n"
     ]
    }
   ],
   "source": [
    "# para redondear un numero se puede usar round(). Redondea al entero mas CERCANO. Mayor a .5 va para arriba o hacia abajo si es menor que .5\n",
    "print(round(14.5))"
   ]
  },
  {
   "cell_type": "code",
   "execution_count": 9,
   "metadata": {},
   "outputs": [
    {
     "name": "stdout",
     "output_type": "stream",
     "text": [
      "13\n",
      "12\n"
     ]
    }
   ],
   "source": [
    "# existen bibliotecas/librerias para hacer operaciones mas avanzadas, por ejemplo: math\n",
    "# con match el redondeo se hace con floor o ceil, obtener valor de pi, etc.\n",
    "from math import ceil, floor\n",
    "\n",
    "round_up = ceil(12.5)\n",
    "print(round_up)\n",
    "\n",
    "round_down = floor(12.5)\n",
    "print(round_down)"
   ]
  },
  {
   "cell_type": "markdown",
   "metadata": {},
   "source": [
    "EJERCICIO1 - UTILIZAR OPERADORES MATEMATICOS"
   ]
  },
  {
   "cell_type": "code",
   "execution_count": 4,
   "metadata": {},
   "outputs": [
    {
     "name": "stdout",
     "output_type": "stream",
     "text": [
      "628949330\n",
      "390577533.93\n"
     ]
    }
   ],
   "source": [
    "# Programa para calcular la distancia entre dos planetas: Tierra (149.597.870 km) y Júpiter (778.547.200 km).\n",
    "# Crear variables para almacenar las dos distancias\n",
    "# ¡Asegúrate de quitar las comas!\n",
    "# Calcular la distancia entre planetas\n",
    "tierra = 149597870\n",
    "jupiter = 778547200\n",
    "\n",
    "distancia_km = abs(tierra - jupiter)\n",
    "print(distancia_km)\n",
    "\n",
    "distancia_mi = distancia_km * 0.621 # para convertir los km en millas se multiplica por 0.621\n",
    "print(distancia_mi)"
   ]
  },
  {
   "cell_type": "markdown",
   "metadata": {},
   "source": [
    "EJERCICIO2 - CONVIERTE CADENAS EN NUMEROS Y USA VALORES ABSOLUTOS"
   ]
  },
  {
   "cell_type": "code",
   "execution_count": 13,
   "metadata": {},
   "outputs": [
    {
     "name": "stdout",
     "output_type": "stream",
     "text": [
      "Planeta uno: 57900000\n",
      "Planeta dos: 1433500000\n"
     ]
    }
   ],
   "source": [
    "# Almacenar las entradas del usuario usando input, agrega el código para leer la distancia del sol para cada planeta, considerando 2 planetas.\n",
    "# Pista: variable = input(\"¿Cuál es tu nombre?\")\n",
    "planeta_uno = input('Ingrese la distancia del Sol al primer planeta: ')\n",
    "planeta_dos = input('Ingrese la distancia del Sol al segundo planeta: ')\n",
    "\n",
    "print('Planeta uno: ' + planeta_uno)\n",
    "print('Planeta dos: ' + planeta_dos)"
   ]
  },
  {
   "cell_type": "code",
   "execution_count": 14,
   "metadata": {},
   "outputs": [],
   "source": [
    "# Convierte las cadenas de ambos planetas a números enteros\n",
    "planeta_uno_int = int(planeta_uno)\n",
    "planeta_dos_int = int(planeta_dos)"
   ]
  },
  {
   "cell_type": "code",
   "execution_count": 15,
   "metadata": {},
   "outputs": [
    {
     "name": "stdout",
     "output_type": "stream",
     "text": [
      "1375600000\n",
      "854247600.0\n"
     ]
    }
   ],
   "source": [
    "# Realizar el cálculo y determinar el valor absoluto\n",
    "distanciaKM = abs(planeta_uno_int - planeta_dos_int)\n",
    "print(distanciaKM)\n",
    "\n",
    "# Convertir de KM a Millas 0.621\n",
    "distanciaMi = distanciaKM * 0.621\n",
    "print(distanciaMi)"
   ]
  }
 ],
 "metadata": {
  "interpreter": {
   "hash": "7dd9c8ef149fbb4800cd879b4a1e4b2a44500d22d91c5702e8541343f7bd1637"
  },
  "kernelspec": {
   "display_name": "Python 3.10.2 64-bit",
   "language": "python",
   "name": "python3"
  },
  "language_info": {
   "codemirror_mode": {
    "name": "ipython",
    "version": 3
   },
   "file_extension": ".py",
   "mimetype": "text/x-python",
   "name": "python",
   "nbconvert_exporter": "python",
   "pygments_lexer": "ipython3",
   "version": "3.10.2"
  },
  "orig_nbformat": 4
 },
 "nbformat": 4,
 "nbformat_minor": 2
}
