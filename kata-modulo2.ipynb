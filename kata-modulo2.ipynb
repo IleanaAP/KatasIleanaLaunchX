{
 "cells": [
  {
   "cell_type": "code",
   "execution_count": null,
   "metadata": {},
   "outputs": [],
   "source": []
  },
  {
   "cell_type": "markdown",
   "metadata": {},
   "source": [
    "MÓDULO 2 - CREAR Y ADMINSITRAR PROYECTOS"
   ]
  },
  {
   "cell_type": "markdown",
   "metadata": {},
   "source": [
    "Flujo de trabajo basico:\n",
    "1. Crear un entorno virtual que no afecte al resto de la maquina\n",
    "2. Ingresar al entorno virtual, donde se especifique la versión de Python y las bibliotecas que necesita\n",
    "3. Desarrolla tu programa\n",
    "\n",
    "Un entorno virtual incluye el intérprete de Python y cualquier biblioteca que el programa necesite."
   ]
  },
  {
   "cell_type": "markdown",
   "metadata": {},
   "source": [
    "Para crear el entorno: python -m venv env\n",
    "*Es recomendado crear una carpeta src para meter los archivos\n",
    "Para ver la carpeta del entorno virtual: dir env\n",
    "Activar el entorno: env\\Scripts\\activate\n",
    "Despues de activar veras la ruta de la terminal con un (env) antes."
   ]
  },
  {
   "cell_type": "markdown",
   "metadata": {},
   "source": [
    "Para instalar un paquete en python directamente de la consola:\n",
    "pip install python-dateutil # ejemplo\n",
    "\n",
    "El paquete lo veras instalado dentro de la varpeta env\\lib\\dateutil\n",
    "\n",
    "Para ver qué paquetes tienes instalados en la terminal se usa: pip freeze\n",
    "\n",
    "Para salirte del entorno y verificar que solo están instalados ahi los paquetes usar: deactivate (ya no está el (env))\n",
    "Pruebas de nuevo pip freeze y veras mas dependencias"
   ]
  },
  {
   "cell_type": "markdown",
   "metadata": {},
   "source": [
    "MAS FORMAS DE INSTALAR PAQUETES\n",
    "Comandos:\n",
    "1. Teniendo un conjunto de archivos en tu maquina e instalandolos desde esa fuente\n",
    "cd <ruta del paquete>\n",
    "python -m pip install .\n",
    "\n",
    "2. Instalar desde un repositorio GitHub que nos proporciona el control de versiones\n",
    "git+https://github.com/your-repo.git\n",
    "\n",
    "3. Instalar desde un archivo comprimido\n",
    "python -m pip install package.tar.gz"
   ]
  },
  {
   "cell_type": "markdown",
   "metadata": {},
   "source": [
    "USAR UN PAQUETE INSTALADO\n",
    "Primero asegurate de tener un directorio src para guardar archivos .py\n"
   ]
  },
  {
   "cell_type": "markdown",
   "metadata": {},
   "source": [
    "EJERCICIO KATA2 - CREANDO UN PAQUETE"
   ]
  },
  {
   "cell_type": "code",
   "execution_count": null,
   "metadata": {},
   "outputs": [],
   "source": [
    "# Creando el entorno virtual\n",
    "# python -m venv env\n",
    "\n",
    "# Activando el entorno\n",
    "# env\\Scirpts\\activate\n",
    "\n",
    "# Instalar biblioteca\n",
    "# pip install python-dateutil\n",
    "\n",
    "# Ver lista de paquetes instalados\n",
    "# pip freeze\n",
    "\n",
    "# Desactivar el entorno virtual\n",
    "# deactivate"
   ]
  }
 ],
 "metadata": {
  "interpreter": {
   "hash": "7dd9c8ef149fbb4800cd879b4a1e4b2a44500d22d91c5702e8541343f7bd1637"
  },
  "kernelspec": {
   "display_name": "Python 3.10.2 64-bit",
   "language": "python",
   "name": "python3"
  },
  "language_info": {
   "name": "python",
   "version": "3.10.2"
  },
  "orig_nbformat": 4
 },
 "nbformat": 4,
 "nbformat_minor": 2
}
